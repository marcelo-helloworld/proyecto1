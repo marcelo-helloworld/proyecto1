{
 "cells": [
  {
   "cell_type": "markdown",
   "id": "a4db4d56-9861-43e9-a87a-ce9c54772387",
   "metadata": {},
   "source": [
    "#  📊 Data Science Tools and Ecosystem\n",
    "# *Cuaderno con ejercicios prácticos*"
   ]
  },
  {
   "cell_type": "markdown",
   "id": "bc7c612e-5bce-45ac-b441-cce1f832313e",
   "metadata": {},
   "source": [
    "# Introducción\n",
    "### Este cuaderno integra todos los ejercicios solicitados sobre conceptos básicos de ciencia de datos, incluyendo lenguajes, bibliotecas, operaciones matemáticas y documentación en Jupyter Notebook."
   ]
  },
  {
   "cell_type": "markdown",
   "id": "08be03c4-4b4d-418f-a352-09aced6b9060",
   "metadata": {},
   "source": [
    "#  Lenguajes de Ciencia de Datos (Ejercicio 4)\n",
    "# 1. **Python** - Dominante en ML y análisis (Pandas, NumPy)\n",
    "# 2. **R** - Especializado en estadística (ggplot2, dplyr)\n",
    "# 3. **SQL** - Gestión de bases de datos\n",
    "# 4. **Julia** - Alto rendimiento en computación científica\n",
    "# 5. **Scala** - Para Big Data con Spark"
   ]
  },
  {
   "cell_type": "markdown",
   "id": "9a023eb8-17e8-48f9-beb2-af1fc7d70887",
   "metadata": {},
   "source": [
    "# ## Bibliotecas Esenciales (Ejercicio 5)\n",
    "# - **Análisis**: Pandas, Polars\n",
    "# - **Visualización**: Matplotlib, Seaborn, Plotly\n",
    "# - **Machine Learning**: Scikit-learn, XGBoost\n",
    "# - **Deep Learning**: TensorFlow, PyTorch\n",
    "# - **Procesamiento**: Dask, Ray"
   ]
  },
  {
   "cell_type": "markdown",
   "id": "41bc704c-4ba7-41b3-8cd3-b3c09566b8b5",
   "metadata": {},
   "source": [
    "# Tabla de Herramientas (Ejercicio 6)\n",
    "# | Herramienta       | Tipo               | Caso de Uso          |\n",
    "# |-------------------|--------------------|----------------------|\n",
    "# | JupyterLab        | IDE Web            | Análisis interactivo |\n",
    "# | VS Code           | Editor             | Desarrollo general   |\n",
    "# | Apache Spark      | Procesamiento BD   | Big Data             |\n",
    "# | Power BI          | Business Intelligence | Visualización     |\n",
    "# | MLflow            | ML Operations      | Gestión de modelos   |\n"
   ]
  },
  {
   "cell_type": "markdown",
   "id": "510a03e3-1e02-41d2-b6d3-4dcab532f47b",
   "metadata": {},
   "source": [
    "### Expresiones Aritméticas (Ejercicio 7)\n",
    "# - `15 + 3 * 2 = 21` (Jerarquía de operaciones)\n",
    "# - `(5 ** 2) / 5 = 5` (Potencia y división)\n",
    "# - `10 % 3 = 1` (Módulo/residuo)"
   ]
  },
  {
   "cell_type": "markdown",
   "id": "583d8100-4fc8-4aa1-bc56-caec7e42853e",
   "metadata": {},
   "source": [
    "# Ejercicio 8: Multiplicación y Suma\n",
    "\n",
    "### Inserta una línea de comentario antes de la expresión para explicar la operación, por ejemplo, Esta es una expresión aritmética simple para multiplicar y luego sumar enteros.\n"
   ]
  },
  {
   "cell_type": "code",
   "execution_count": 3,
   "id": "53bbee1f-348c-42eb-975d-51ee836733d3",
   "metadata": {},
   "outputs": [
    {
     "name": "stdout",
     "output_type": "stream",
     "text": [
      "Multiplicación: 12 x 5 = 60\n",
      "Suma: 12 + 5 = 17\n"
     ]
    }
   ],
   "source": [
    "# Ejercicio 8: Multiplicación y Suma\n",
    "num1 = 12\n",
    "num2 = 5\n",
    "print(f\"Multiplicación: {num1} x {num2} = {num1 * num2}\")\n",
    "print(f\"Suma: {num1} + {num2} = {num1 + num2}\")"
   ]
  },
  {
   "cell_type": "markdown",
   "id": "4a4b0149-1e46-4ef0-992a-a4f069ac20a8",
   "metadata": {},
   "source": [
    "# Ejercicio 9: Conversión minutos a horas\n",
    "### Esto convertirá 200 minutos a horas dividiendo por 60"
   ]
  },
  {
   "cell_type": "code",
   "execution_count": 4,
   "id": "a5905f30-a779-4e4f-a479-8e129679df98",
   "metadata": {},
   "outputs": [
    {
     "name": "stdout",
     "output_type": "stream",
     "text": [
      "\n",
      "200 minutos = 3.3 horas\n"
     ]
    }
   ],
   "source": [
    "# Ejercicio 9: Conversión minutos a horas\n",
    "minutos = 200\n",
    "horas = minutos / 60\n",
    "print(f\"\\n{minutos} minutos = {horas:.1f} horas\")"
   ]
  },
  {
   "cell_type": "markdown",
   "id": "06f0920b-e2a1-4aea-9642-2ff4dcfd6e38",
   "metadata": {},
   "source": [
    "# Ejercicio 10: Objetivos del Cuaderno\n",
    "### Listar lenguajes populares para Ciencia de Datos"
   ]
  },
  {
   "cell_type": "code",
   "execution_count": 4,
   "id": "f17ecdac-8a15-4a79-865b-56fc7fd640bb",
   "metadata": {},
   "outputs": [
    {
     "name": "stdout",
     "output_type": "stream",
     "text": [
      "\n",
      "Objetivos de aprendizaje:\n",
      "1. Dominar lenguajes clave en DS\n",
      "2. Aplicar bibliotecas principales\n",
      "3. Documentar procesos en Jupyter\n",
      "4. Implementar operaciones básicas\n",
      "5. Versionar código con Git/GitHub\n"
     ]
    }
   ],
   "source": [
    "# Ejercicio 10: Objetivos del Cuaderno\n",
    "print(\"\\nObjetivos de aprendizaje:\")\n",
    "objetivos = [\n",
    "    \"Dominar lenguajes clave en DS\",\n",
    "    \"Aplicar bibliotecas principales\",\n",
    "    \"Documentar procesos en Jupyter\",\n",
    "    \"Implementar operaciones básicas\",\n",
    "    \"Versionar código con Git/GitHub\"\n",
    "]\n",
    "\n",
    "for i, objetivo in enumerate(objetivos, 1):\n",
    "    print(f\"{i}. {objetivo}\")"
   ]
  },
  {
   "cell_type": "markdown",
   "id": "cde5ae5d-37a0-4853-b5c4-fdfc269a25da",
   "metadata": {},
   "source": [
    "# **Autor**\n",
    "## [marcelo pacheco]  \n",
    "# **GitHub**: \n",
    "## [marcelo-developer](https://github.com/marcelo-helloworld/proyecto1/blob/main/DataScienceEcosystem.ipynb)  \n",
    "# **Versión**: 1.0  \n",
    "# **Última actualización**: 13/07/2025"
   ]
  },
  {
   "cell_type": "code",
   "execution_count": null,
   "id": "ffa9450b-c277-49d4-9a8a-5020067932d5",
   "metadata": {},
   "outputs": [],
   "source": []
  }
 ],
 "metadata": {
  "kernelspec": {
   "display_name": "Python [conda env:base] *",
   "language": "python",
   "name": "conda-base-py"
  },
  "language_info": {
   "codemirror_mode": {
    "name": "ipython",
    "version": 3
   },
   "file_extension": ".py",
   "mimetype": "text/x-python",
   "name": "python",
   "nbconvert_exporter": "python",
   "pygments_lexer": "ipython3",
   "version": "3.13.5"
  }
 },
 "nbformat": 4,
 "nbformat_minor": 5
}
